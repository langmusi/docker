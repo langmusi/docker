{
 "cells": [
  {
   "cell_type": "code",
   "execution_count": 1,
   "source": [
    "import pandas as pd\r\n",
    "\r\n",
    "\r\n",
    "from numpy import mean\r\n",
    "from numpy import std\r\n",
    "from numpy import NaN\r\n",
    "\r\n",
    "from sklearn.datasets import make_regression\r\n",
    "from sklearn.model_selection import cross_val_score\r\n",
    "from sklearn.model_selection import RepeatedKFold\r\n",
    "from xgboost import XGBRFRegressor\r\n"
   ],
   "outputs": [],
   "metadata": {}
  },
  {
   "cell_type": "code",
   "execution_count": 3,
   "source": [
    "# test regression dataset\r\n",
    "from sklearn.datasets import make_regression\r\n",
    "# define dataset\r\n",
    "X, y = make_regression(n_samples=1000, n_features=20, n_informative=15, noise=0.1, random_state=7)\r\n",
    "# summarize the dataset\r\n",
    "print(X.shape, y.shape)\r\n",
    "X"
   ],
   "outputs": [
    {
     "output_type": "stream",
     "name": "stdout",
     "text": [
      "(1000, 20) (1000,)\n"
     ]
    },
    {
     "output_type": "execute_result",
     "data": {
      "text/plain": [
       "array([[ 0.20543991, -0.97049844, -0.81403429, ...,  1.26567231,\n",
       "         2.56569098, -0.11154792],\n",
       "       [-0.15673157, -0.29174391, -1.35320829, ...,  1.0656072 ,\n",
       "         2.47014304, -1.27650497],\n",
       "       [-0.02584282, -0.245296  , -1.51973704, ..., -1.86585106,\n",
       "         0.61223733, -0.51494948],\n",
       "       ...,\n",
       "       [ 1.19355678,  1.23937514,  1.35954329, ..., -0.20344271,\n",
       "         0.5071418 , -1.25811036],\n",
       "       [ 1.33604765, -0.61903887,  0.13355302, ...,  1.11569853,\n",
       "         0.60672122,  1.67402953],\n",
       "       [-0.4997569 , -0.30625735, -1.14360553, ...,  0.18461121,\n",
       "         0.52281976, -1.07511695]])"
      ]
     },
     "metadata": {},
     "execution_count": 3
    }
   ],
   "metadata": {}
  },
  {
   "cell_type": "code",
   "execution_count": null,
   "source": [],
   "outputs": [],
   "metadata": {}
  }
 ],
 "metadata": {
  "orig_nbformat": 4,
  "language_info": {
   "name": "python",
   "version": "3.8.11",
   "mimetype": "text/x-python",
   "codemirror_mode": {
    "name": "ipython",
    "version": 3
   },
   "pygments_lexer": "ipython3",
   "nbconvert_exporter": "python",
   "file_extension": ".py"
  },
  "kernelspec": {
   "name": "python3",
   "display_name": "Python 3.8.11 64-bit ('basic_use': conda)"
  },
  "interpreter": {
   "hash": "42d2d391872289dee3d59fc1bc719c1c1c3b1716fd5b8c58040caaaff168073b"
  }
 },
 "nbformat": 4,
 "nbformat_minor": 2
}